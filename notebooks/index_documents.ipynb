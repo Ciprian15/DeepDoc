{
 "cells": [
  {
   "cell_type": "code",
   "execution_count": 97,
   "metadata": {},
   "outputs": [],
   "source": [
    "import json\n",
    "import os\n",
    "import re\n",
    "from sklearn.feature_extraction.text import CountVectorizer\n",
    "from collections import defaultdict\n",
    "import numpy as np"
   ]
  },
  {
   "cell_type": "code",
   "execution_count": 2,
   "metadata": {},
   "outputs": [],
   "source": [
    "DATABASE_NAME = \"SMALL_TOBACCO\""
   ]
  },
  {
   "cell_type": "code",
   "execution_count": 3,
   "metadata": {},
   "outputs": [],
   "source": [
    "documents_metadata = os.listdir(\"../data/{}/document_metadata/\".format(DATABASE_NAME))"
   ]
  },
  {
   "cell_type": "code",
   "execution_count": 150,
   "metadata": {},
   "outputs": [],
   "source": [
    "alphanumeric_detector = re.compile(\"[\\W_]+\")\n",
    "\n",
    "def un_tokenize(tokenized_text):\n",
    "    return \"\".join([s.strip() for s in \" \".join(tokenized_text).split(\"##\")])\n",
    "\n",
    "\n",
    "def remove_punctuation(text):\n",
    "    return alphanumeric_detector.sub(' ',text)\n",
    "\n",
    "\n",
    "def preprocessing_pipeline(tokenized_text):\n",
    "    t = un_tokenize(tokenized_text)\n",
    "    t = remove_punctuation(t)\n",
    "    return t\n",
    "    \n",
    "\n",
    "\n",
    "word_occurence_docs = defaultdict(list)    \n",
    "\n",
    "for d in documents_metadata:    \n",
    "    with open(\"../data/{}/document_metadata/{}\".format(DATABASE_NAME,d),'r') as f:\n",
    "        document_metadata = json.load(f)\n",
    "    \n",
    "    d.replace(\".json\",\"\")\n",
    "    text = preprocessing_pipeline(document_metadata['tokenized_text'][1:-1])\n",
    "    \n",
    "    for word in text.split(\" \"):\n",
    "        word_occurence_docs[word].append(d.replace(\".json\",\"\"))\n",
    "\n",
    "num_unique_occs = {k:len(v) for (k,v) in word_occurence_docs.items()}"
   ]
  },
  {
   "cell_type": "code",
   "execution_count": 154,
   "metadata": {},
   "outputs": [],
   "source": [
    "index = {\n",
    "    \"inverted_index\":word_occurence_docs,\n",
    "    \"unique_appearences\":num_unique_occs\n",
    "}\n",
    "\n",
    "with open(\"../data/{}/search_index.json\".format(DATABASE_NAME),'w') as f:\n",
    "    json.dump(index,f)"
   ]
  },
  {
   "cell_type": "code",
   "execution_count": null,
   "metadata": {},
   "outputs": [],
   "source": []
  }
 ],
 "metadata": {
  "kernelspec": {
   "display_name": "Environment (conda_pytorch_p36)",
   "language": "python",
   "name": "conda_pytorch_p36"
  },
  "language_info": {
   "codemirror_mode": {
    "name": "ipython",
    "version": 3
   },
   "file_extension": ".py",
   "mimetype": "text/x-python",
   "name": "python",
   "nbconvert_exporter": "python",
   "pygments_lexer": "ipython3",
   "version": "3.6.10"
  }
 },
 "nbformat": 4,
 "nbformat_minor": 4
}
