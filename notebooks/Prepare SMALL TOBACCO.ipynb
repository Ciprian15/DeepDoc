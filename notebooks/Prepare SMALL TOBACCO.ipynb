{
 "cells": [
  {
   "cell_type": "code",
   "execution_count": 26,
   "metadata": {},
   "outputs": [],
   "source": [
    "import os\n",
    "import json\n",
    "from PIL import Image\n"
   ]
  },
  {
   "cell_type": "code",
   "execution_count": 31,
   "metadata": {},
   "outputs": [],
   "source": [
    "DATABASE_NAME = \"SMALL_TOBACCO\"\n",
    "DATABASE_LOCATION = \"../../Tobacco3482-jpg\"\n",
    "IMAGE_DESTINATION = \"../data/{}/document_images\".format(DATABASE_NAME)\n",
    "METADATA_DESTINATION = \"../data/{}/document_metadata\".format(DATABASE_NAME)\n",
    "\n",
    "RESIZE_DIMENSIONS = (1000,1000)"
   ]
  },
  {
   "cell_type": "code",
   "execution_count": 5,
   "metadata": {},
   "outputs": [],
   "source": [
    "def list_full_dir(directory):\n",
    "    file_contents = []\n",
    "    try:\n",
    "        contents = os.listdir(directory)\n",
    "        for c in contents:\n",
    "            file_contents += list_full_dir(\"{}/{}\".format(directory,c))\n",
    "    except Exception as e: \n",
    "        file_contents = [directory]    \n",
    "    return file_contents\n",
    "    \n"
   ]
  },
  {
   "cell_type": "code",
   "execution_count": 6,
   "metadata": {},
   "outputs": [],
   "source": [
    "images = list_full_dir(DATABASE_LOCATION)"
   ]
  },
  {
   "cell_type": "code",
   "execution_count": 36,
   "metadata": {},
   "outputs": [],
   "source": [
    "if not os.path.exists(IMAGE_DESTINATION):    \n",
    "    os.makedirs(IMAGE_DESTINATION)\n",
    "if not os.path.exists(METADATA_DESTINATION):    \n",
    "    os.makedirs(METADATA_DESTINATION)"
   ]
  },
  {
   "cell_type": "code",
   "execution_count": 43,
   "metadata": {},
   "outputs": [
    {
     "name": "stdout",
     "output_type": "stream",
     "text": [
      "cannot identify image file '../../Tobacco3482-jpg/Letter/Thumbs.db'\n",
      "cannot identify image file '../../Tobacco3482-jpg/Scientific/Thumbs.db'\n",
      "cannot identify image file '../../Tobacco3482-jpg/Report/Thumbs.db'\n",
      "cannot identify image file '../../Tobacco3482-jpg/ADVE/Thumbs.db'\n",
      "cannot identify image file '../../Tobacco3482-jpg/Memo/Thumbs.db'\n",
      "cannot identify image file '../../Tobacco3482-jpg/Note/Thumbs.db'\n",
      "cannot identify image file '../../Tobacco3482-jpg/Resume/Thumbs.db'\n",
      "cannot identify image file '../../Tobacco3482-jpg/Form/Thumbs.db'\n",
      "cannot identify image file '../../Tobacco3482-jpg/News/Thumbs.db'\n",
      "cannot identify image file '../../Tobacco3482-jpg/Email/Thumbs.db'\n"
     ]
    }
   ],
   "source": [
    "for i in images:\n",
    "    try:\n",
    "        im = Image.open(i)\n",
    "        im = im.resize(RESIZE_DIMENSIONS)\n",
    "        im.save(\"{}/{}\".format(IMAGE_DESTINATION,i.split(\"/\")[-1]),'JPEG')\n",
    "        \n",
    "        \"\"\"\n",
    "        metadata_location = \"{}/{}\".format(METADATA_DESTINATION,i.split(\"/\")[-1])\\\n",
    "                                   .replace('.jpg','.json')\n",
    "\n",
    "        with open(metadata_location,'w+') as f:\n",
    "            json.dump({\"label\":i.split(\"/\")[-2]},\n",
    "                        f)\"\"\"\n",
    "    except Exception as e:\n",
    "        print(e)"
   ]
  },
  {
   "cell_type": "code",
   "execution_count": 30,
   "metadata": {},
   "outputs": [],
   "source": []
  },
  {
   "cell_type": "code",
   "execution_count": null,
   "metadata": {},
   "outputs": [],
   "source": []
  }
 ],
 "metadata": {
  "kernelspec": {
   "display_name": "Environment (conda_pytorch_p36)",
   "language": "python",
   "name": "conda_pytorch_p36"
  },
  "language_info": {
   "codemirror_mode": {
    "name": "ipython",
    "version": 3
   },
   "file_extension": ".py",
   "mimetype": "text/x-python",
   "name": "python",
   "nbconvert_exporter": "python",
   "pygments_lexer": "ipython3",
   "version": "3.6.10"
  }
 },
 "nbformat": 4,
 "nbformat_minor": 4
}
